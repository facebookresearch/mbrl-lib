{
 "cells": [
  {
   "cell_type": "markdown",
   "metadata": {
    "pycharm": {
     "name": "#%% md\n"
    }
   },
   "source": [
    "# Preview\n",
    "\n",
    "In this example, we are going to use our toolbox to train and evaluate the [Trajectory-based Dynamics Model](https://arxiv.org/abs/2012.09156) in the reacher environment. Note that the reacher environment in this repository is slightly different than the one used in that paper!"
   ]
  },
  {
   "cell_type": "code",
   "execution_count": 1,
   "metadata": {
    "pycharm": {
     "is_executing": true,
     "name": "#%%\n"
    }
   },
   "outputs": [],
   "source": [
    "from IPython import display\n",
    "%matplotlib inline\n",
    "import matplotlib as mpl\n",
    "import matplotlib.pyplot as plt\n",
    "import numpy as np\n",
    "import torch\n",
    "import omegaconf\n",
    "\n",
    "import mbrl.env.pets_reacher as reacher_env\n",
    "import mbrl.env.cartpole_continuous as cartpole_env\n",
    "import mbrl.env.reward_fns as reward_fns\n",
    "import mbrl.env.termination_fns as termination_fns\n",
    "import mbrl.models as models\n",
    "import mbrl.util.common as common_util\n",
    "\n",
    "\n",
    "%load_ext autoreload\n",
    "%autoreload 2\n",
    "\n",
    "mpl.rcParams.update({\"font.size\": 16})\n",
    "\n",
    "device = 'cuda:0' if torch.cuda.is_available() else 'cpu'"
   ]
  },
  {
   "cell_type": "markdown",
   "metadata": {
    "pycharm": {
     "name": "#%% md\n"
    }
   },
   "source": [
    "# Creating the environment\n",
    "\n",
    "First we instantiate the environment."
   ]
  },
  {
   "cell_type": "code",
   "execution_count": 2,
   "metadata": {
    "pycharm": {
     "name": "#%%\n"
    }
   },
   "outputs": [],
   "source": [
    "seed = 0\n",
    "env = reacher_env.Reacher3DEnv()\n",
    "env.seed(seed)\n",
    "rng = np.random.default_rng(seed=0)\n",
    "generator = torch.Generator(device=device)\n",
    "generator.manual_seed(seed)\n",
    "obs_shape = env.observation_space.shape\n",
    "act_shape = env.action_space.shape\n"
   ]
  },
  {
   "cell_type": "markdown",
   "metadata": {
    "pycharm": {
     "name": "#%% md\n"
    }
   },
   "source": [
    "# PID Agent\n",
    "\n",
    "The following config object and the subsequent function call create an agent that can plan using the Cross-Entropy Method over the model environment created above. When calling `planning.create_trajectory_optim_agent_for_model`, we also specify how many particles to use when propagating model uncertainty, as well as the uncertainty propagation method, \"fixed_model\", which corresponds to the method TS$\\infty$ in the PETS paper."
   ]
  },
  {
   "cell_type": "code",
   "execution_count": 3,
   "metadata": {
    "pycharm": {
     "name": "#%%\n"
    }
   },
   "outputs": [],
   "source": [
    "import numpy as np\n",
    "\n",
    "from mbrl.planning import Agent\n",
    "\n",
    "\n",
    "class PIDAgent(Agent):\n",
    "    \"\"\"\n",
    "    Agent that reacts via an internal set of PID controllers.\n",
    "    \"\"\"\n",
    "\n",
    "    def __init__(\n",
    "        self,\n",
    "        dim: int,\n",
    "        Kp: np.ndarray,\n",
    "        Ki: np.ndarray,\n",
    "        Kd: np.ndarray,\n",
    "        target: np.ndarray,\n",
    "    ):\n",
    "        \"\"\"\n",
    "        :param dim: dimensionality of state and control signal\n",
    "        :param P: proportional control coeff\n",
    "        :param I: integral control coeff\n",
    "        :param D: derivative control coeff\n",
    "        :param target: setpoint\n",
    "        \"\"\"\n",
    "        super().__init__()\n",
    "        assert len(Kp) == dim\n",
    "        assert len(Ki) == dim\n",
    "        assert len(Kd) == dim\n",
    "        assert len(target) == dim\n",
    "\n",
    "        self.n_dof = dim\n",
    "\n",
    "        # TODO: add helper functions for setting and using state_mapping\n",
    "        self.state_mapping = None   # can set to run PID on specific variables\n",
    "\n",
    "\n",
    "        # TODO: fix dimensionality with P\n",
    "        self.Kp = Kp #np.tile(P_value, self.n_dof)\n",
    "        self.Ki = Ki #np.tile(I_value, self.n_dof)\n",
    "        self.Kd = Kd #np.tile(D_value, self.n_dof)\n",
    "        self.target = target\n",
    "        self.prev_error = 0\n",
    "        self.error = 0\n",
    "        # self.cum_error = 0\n",
    "        # self.I_count = 0\n",
    "\n",
    "    def act(self, obs: np.array) -> np.ndarray:\n",
    "        if len(obs) > self.n_dof:\n",
    "            obs = obs[:self.n_dof]\n",
    "        q_des = self.target\n",
    "        q = obs\n",
    "\n",
    "        self.error = q_des - q\n",
    "        P_value = self.Kp * self.error\n",
    "        I_value = 0  # TODO: implement I and D part\n",
    "        D_value = self.Kd * (self.error - self.prev_error)  # + self.D*(qd_des-qd)\n",
    "        self.prev_error = self.error\n",
    "        action = P_value + I_value + D_value\n",
    "        return action\n",
    "\n",
    "    def _get_P(self):\n",
    "        return self.Kp\n",
    "\n",
    "    def _get_I(self):\n",
    "        return self.Ki\n",
    "\n",
    "    def _get_D(self):\n",
    "        return self.Kd\n",
    "\n",
    "    def _get_targets(self):\n",
    "        return self.target\n",
    "\n",
    "    def get_parameters(self):\n",
    "        return np.stack((self._get_P(), self._get_I(), self._get_D(), self._get_targets())).flatten()\n",
    "\n",
    "\n",
    "def create_pid_agent(action_dim):\n",
    "    P = np.random.rand(action_dim) * 5\n",
    "    I = np.zeros(action_dim)\n",
    "    D = np.random.rand(action_dim)\n",
    "    target = np.random.rand(action_dim) * 2 - 1\n",
    "\n",
    "    agent = PIDAgent(dim=action_dim, Kp=P, Ki=I, Kd=D, target=target)\n",
    "    return agent"
   ]
  },
  {
   "cell_type": "code",
   "execution_count": 4,
   "metadata": {},
   "outputs": [],
   "source": [
    "agent = create_pid_agent(env.action_space.shape[0])"
   ]
  },
  {
   "cell_type": "markdown",
   "metadata": {
    "pycharm": {
     "name": "#%% md\n"
    }
   },
   "source": [
    "# Hydra configuration\n",
    "\n",
    "MBRL-Lib uses [Hydra](https://github.com/facebookresearch/hydra) to manage configurations. For the purpose of this example, you can think of the configuration object as a dictionary with key/value pairs--and equivalent attributes--that specify the model and algorithmic options. Our toolbox expects the configuration object to be organized as follows:"
   ]
  },
  {
   "cell_type": "code",
   "execution_count": 5,
   "metadata": {
    "pycharm": {
     "name": "#%%\n"
    }
   },
   "outputs": [],
   "source": [
    "trial_length = 300\n",
    "num_trials = 33\n",
    "ensemble_size = 1\n",
    "# TODO add support for ensembles in sampling (below)\n",
    "param_shape = (len(agent.get_parameters())+1,)\n",
    "\n",
    "# Everything with \"???\" indicates an option with a missing value.\n",
    "# Our utility functions will fill in these details using the \n",
    "# environment information\n",
    "cfg_dict = {\n",
    "    # dynamics model configuration\n",
    "    \"dynamics_model\": {\n",
    "        \"_target_\": \"mbrl.models.GaussianMLP\",\n",
    "        \"device\": device,\n",
    "        \"num_layers\": 3,\n",
    "        \"ensemble_size\": ensemble_size,\n",
    "        \"hid_size\": 200,\n",
    "        \"in_size\": param_shape[0]+obs_shape[0], # control params, horizon, state_0\n",
    "        \"out_size\": obs_shape[0],               # state time 0+h\n",
    "        \"deterministic\": False,\n",
    "        \"propagation_method\": \"expectation\",\n",
    "        # can also configure activation function for GaussianMLP\n",
    "        \"activation_fn_cfg\": {\n",
    "            \"_target_\": \"torch.nn.LeakyReLU\",\n",
    "            \"negative_slope\": 0.01\n",
    "        }\n",
    "    },\n",
    "    # options for training the dynamics model\n",
    "    \"algorithm\": {\n",
    "        \"learned_rewards\": False,\n",
    "        \"target_is_delta\": False, # trajectory based model predicts states directly\n",
    "        \"normalize\": True,\n",
    "    },\n",
    "    # these are experiment specific options\n",
    "    \"overrides\": {\n",
    "        \"trial_length\": trial_length,\n",
    "        \"num_steps\": num_trials * trial_length,\n",
    "        \"model_batch_size\": 32,\n",
    "        \"validation_ratio\": 0.1\n",
    "    }\n",
    "}\n",
    "cfg = omegaconf.OmegaConf.create(cfg_dict)\n",
    "\n",
    "one_step_config_dict = {\n",
    "    # dynamics model configuration\n",
    "    \"dynamics_model\": {\n",
    "        \"_target_\": \"mbrl.models.GaussianMLP\",\n",
    "        \"device\": device,\n",
    "        \"num_layers\": 3,\n",
    "        \"ensemble_size\": ensemble_size,\n",
    "        \"hid_size\": 200,\n",
    "        \"in_size\": \"???\",\n",
    "        \"out_size\": \"???\",\n",
    "        \"deterministic\": False,\n",
    "        \"propagation_method\": \"expectation\",\n",
    "        # can also configure activation function for GaussianMLP\n",
    "        \"activation_fn_cfg\": {\n",
    "            \"_target_\": \"torch.nn.LeakyReLU\",\n",
    "            \"negative_slope\": 0.01\n",
    "        }\n",
    "    },\n",
    "    # options for training the dynamics model\n",
    "    \"algorithm\": {\n",
    "        \"learned_rewards\": False,\n",
    "        \"target_is_delta\": True, \n",
    "        \"normalize\": True,\n",
    "    },\n",
    "    # these are experiment specific options\n",
    "    \"overrides\": {\n",
    "        \"trial_length\": trial_length,\n",
    "        \"num_steps\": num_trials * trial_length,\n",
    "        \"model_batch_size\": 40,\n",
    "        \"validation_ratio\": 0.1\n",
    "    }\n",
    "}\n",
    "one_step_config = omegaconf.OmegaConf.create(one_step_config_dict)"
   ]
  },
  {
   "cell_type": "markdown",
   "metadata": {
    "pycharm": {
     "name": "#%% md\n"
    }
   },
   "source": [
    "# Creating a dynamics model\n",
    "\n",
    "Given the configuration above, the following two lines of code create a wrapper for 1-D transition reward models, and a gym-like environment that wraps it, which we can use for simulating the real environment. The 1-D model wrapper takes care of creating input/output data tensors to the underlying NN model (by concatenating observations, actions and rewards appropriately), normalizing the input data to the model, and other data processing tasks (e.g., converting observation targets to deltas with respect to the input observation)."
   ]
  },
  {
   "cell_type": "code",
   "execution_count": 6,
   "metadata": {
    "pycharm": {
     "name": "#%%\n"
    }
   },
   "outputs": [
    {
     "name": "stderr",
     "output_type": "stream",
     "text": [
      "/Users/nato/miniconda3/envs/mbrl-py39/lib/python3.9/site-packages/hydra/utils.py:32: UserWarning: `OmegaConf.is_none()` is deprecated, see https://github.com/omry/omegaconf/issues/547\n",
      "  if OmegaConf.is_none(config):\n"
     ]
    }
   ],
   "source": [
    "# Create a 1-D dynamics model for this environment\n",
    "dynamics_model = common_util.create_one_dim_tr_model(cfg, obs_shape, act_shape)\n"
   ]
  },
  {
   "cell_type": "markdown",
   "metadata": {
    "pycharm": {
     "name": "#%% md\n"
    }
   },
   "source": [
    "# Create replay buffers\n",
    "\n",
    "We can create a replay buffer for this environment using an configuration a built-in method, where `collect_trajectories` is on for easier plotting of results.\n",
    "\n",
    "Please note, we will create three replay buffers because our use-case pushes the limits of mbrl-lib. \n",
    "1. `replay_buffer_traj_train` is a replay buffer where will put all the sub-trajectories used to train the trajectory-based model,\n",
    "2. `replay_buffer_traj_val` is a replay buffer storing trajectories with control parameters, used for plotting only.\n",
    "3. `one_step_replay_buffer` is a replay buffer mirroring other examples in this library. We can use it for training and plotting one-step model results."
   ]
  },
  {
   "cell_type": "code",
   "execution_count": 7,
   "metadata": {
    "pycharm": {
     "name": "#%%\n"
    }
   },
   "outputs": [],
   "source": [
    "collect_full_trajectories = True\n",
    "replay_buffer_traj_train = common_util.create_replay_buffer(cfg, \n",
    "                                                 obs_shape, \n",
    "                                                 param_shape, \n",
    "                                                 rng=rng, \n",
    "                                                 collect_trajectories=False)\n",
    "\n",
    "replay_buffer_traj_val = common_util.create_replay_buffer(cfg, \n",
    "                                                 obs_shape, \n",
    "                                                 param_shape, \n",
    "                                                 rng=rng, \n",
    "                                                 collect_trajectories=True)\n",
    "\n",
    "one_step_replay_buffer = common_util.create_replay_buffer(one_step_config, \n",
    "                                                          obs_shape, \n",
    "                                                          act_shape, \n",
    "                                                          rng=rng, \n",
    "                                                          collect_trajectories=True)"
   ]
  },
  {
   "cell_type": "markdown",
   "metadata": {
    "pycharm": {
     "name": "#%% md\n"
    }
   },
   "source": [
    "We can now populate the replay buffer with random trajectories of a desired length, using a modified function based on `util.rollout_agent_trajectories`. The changes are that the tuples are only added to the buffer at the end of the trajectory to add every sub-trajectory for supervised learning."
   ]
  },
  {
   "cell_type": "code",
   "execution_count": 8,
   "metadata": {
    "pycharm": {
     "name": "#%%\n"
    }
   },
   "outputs": [],
   "source": [
    "step = 0\n",
    "trial = 0\n",
    "while trial < num_trials:\n",
    "    traj = []\n",
    "    obs = env.reset()\n",
    "    \n",
    "    # create a new agent each trial to get a variety of PID parameters\n",
    "    agent = create_pid_agent(env.action_space.shape[0])\n",
    "    agent.reset()\n",
    "    done = False\n",
    "    while not done:\n",
    "        action = agent.act(obs)\n",
    "        next_obs, reward, done, info = env.step(action)\n",
    "        \n",
    "        # ADD ONE-STEP DATA\n",
    "        one_step_replay_buffer.add(obs, action, next_obs, reward, done)\n",
    "\n",
    "        # use a separate replay buffer for evaluating trajectories later (that can store trajectory info)\n",
    "        replay_buffer_traj_val.add(obs, \n",
    "                                  np.concatenate((agent.get_parameters(), np.array([1,]))),\n",
    "                                  next_obs,\n",
    "                                  reward,\n",
    "                                  done)\n",
    "\n",
    "        \n",
    "        obs = next_obs\n",
    "        traj.append((obs, step))\n",
    "        \n",
    "        # ADD TRAJ-BASED DATA\n",
    "        # if not the first step, iterate through memory and append each sub-trajectory\n",
    "        if len(traj[:-1]) > 0:\n",
    "            for obs_t, t in traj[:-1]:\n",
    "#                 print(f\"adding: mem time {t}, current time {step}, horizon {step-t}\")\n",
    "                replay_buffer_traj_train.add(obs_t, # obs is state_t\n",
    "                                             # action is control params + hor\n",
    "                                  np.concatenate((agent.get_parameters(), np.array([step-t,]))), \n",
    "                                  next_obs, # next state is state_t+hor\n",
    "                                  reward, # reward not used\n",
    "                                  done # done not used\n",
    "                             )\n",
    "        \n",
    "\n",
    "        step += 1\n",
    "                \n",
    "        if trial_length and step % trial_length == 0:\n",
    "            if collect_full_trajectories and not done:\n",
    "                replay_buffer_traj_val.close_trajectory()\n",
    "                one_step_replay_buffer.close_trajectory()\n",
    "            break\n",
    "    trial += 1    \n"
   ]
  },
  {
   "cell_type": "markdown",
   "metadata": {
    "pycharm": {
     "name": "#%% md\n"
    }
   },
   "source": [
    "# Training the Trajectory Based Model"
   ]
  },
  {
   "cell_type": "markdown",
   "metadata": {},
   "source": [
    "Create a basic model trainer for our Gaussian MLP."
   ]
  },
  {
   "cell_type": "code",
   "execution_count": 9,
   "metadata": {},
   "outputs": [],
   "source": [
    "model_trainer = models.ModelTrainer(dynamics_model, optim_lr=1e-4, weight_decay=5e-5)"
   ]
  },
  {
   "cell_type": "markdown",
   "metadata": {},
   "source": [
    "Create a training & validation dataset."
   ]
  },
  {
   "cell_type": "code",
   "execution_count": 10,
   "metadata": {},
   "outputs": [],
   "source": [
    "train_dataset, val_dataset = common_util.get_basic_buffer_iterators(\n",
    "    replay_buffer_traj_train, \n",
    "    cfg.overrides.model_batch_size, \n",
    "    cfg.overrides.validation_ratio, \n",
    "    ensemble_size=ensemble_size, \n",
    "    shuffle_each_epoch=True\n",
    ")"
   ]
  },
  {
   "cell_type": "markdown",
   "metadata": {},
   "source": [
    "Train the model!"
   ]
  },
  {
   "cell_type": "code",
   "execution_count": 11,
   "metadata": {},
   "outputs": [],
   "source": [
    "train_losses, val_losses = model_trainer.train(train_dataset, val_dataset, num_epochs=50, patience=100)"
   ]
  },
  {
   "cell_type": "markdown",
   "metadata": {},
   "source": [
    "# Plotting Results"
   ]
  },
  {
   "cell_type": "markdown",
   "metadata": {},
   "source": [
    "## Model Loss"
   ]
  },
  {
   "cell_type": "code",
   "execution_count": 12,
   "metadata": {},
   "outputs": [
    {
     "data": {
      "image/png": "[encoded data removed]",
      "text/plain": [
       "<Figure size 1152x576 with 2 Axes>"
      ]
     },
     "metadata": {
      "needs_background": "light"
     },
     "output_type": "display_data"
    }
   ],
   "source": [
    "fig, ax = plt.subplots(2, 1, figsize=(16, 8))\n",
    "ax[0].plot(train_losses)\n",
    "ax[0].set_xlabel(\"epoch\")\n",
    "ax[0].set_ylabel(\"train loss (gaussian nll)\")\n",
    "ax[1].plot(val_losses)\n",
    "ax[1].set_xlabel(\"epoch\")\n",
    "ax[1].set_ylabel(\"val loss (mse)\")\n",
    "plt.show()"
   ]
  },
  {
   "cell_type": "markdown",
   "metadata": {},
   "source": [
    "## Prediction Accuracy"
   ]
  },
  {
   "cell_type": "markdown",
   "metadata": {},
   "source": [
    "Initialize an one-step model"
   ]
  },
  {
   "cell_type": "code",
   "execution_count": 13,
   "metadata": {},
   "outputs": [],
   "source": [
    "# Create a 1-D dynamics model for this environment\n",
    "one_step_model = common_util.create_one_dim_tr_model(one_step_config, obs_shape, act_shape)\n",
    "\n",
    "# This functions allows the model to evaluate the true rewards given an observation \n",
    "reward_fn = reward_fns.cartpole\n",
    "# This function allows the model to know if an observation should make the episode end\n",
    "term_fn = termination_fns.cartpole\n",
    "\n",
    "# Create a gym-like environment to encapsulate the model\n",
    "one_step_model_env = models.ModelEnv(env, one_step_model, term_fn, reward_fn, generator=generator)"
   ]
  },
  {
   "cell_type": "markdown",
   "metadata": {},
   "source": [
    "Train the one-step model"
   ]
  },
  {
   "cell_type": "code",
   "execution_count": 14,
   "metadata": {},
   "outputs": [],
   "source": [
    "one_step_model_trainer = models.ModelTrainer(one_step_model, optim_lr=1e-4, weight_decay=5e-5)\n",
    "one_step_train_dataset, one_step_val_dataset = common_util.get_basic_buffer_iterators(\n",
    "    one_step_replay_buffer, #  \n",
    "    batch_size=cfg.overrides.model_batch_size,\n",
    "    val_ratio=cfg.overrides.validation_ratio,\n",
    "    ensemble_size=ensemble_size, \n",
    "    shuffle_each_epoch=True\n",
    ")\n",
    "train_losses, val_losses = one_step_model_trainer.train(one_step_train_dataset, one_step_val_dataset, \n",
    "                                               num_epochs=50, patience=100)"
   ]
  },
  {
   "cell_type": "markdown",
   "metadata": {},
   "source": [
    "Sample trajectories for evaluation, predict trajectories, and compute MSE across states."
   ]
  },
  {
   "cell_type": "code",
   "execution_count": 15,
   "metadata": {},
   "outputs": [],
   "source": [
    "num_traj = 10\n",
    "eval_data = []\n",
    "one_step = []\n",
    "traj_based = []\n",
    "for i in range(num_traj):\n",
    "    traj = one_step_replay_buffer.sample_trajectory()\n",
    "    traj_with_params = replay_buffer_traj_val.sample_trajectory()\n",
    "    eval_data.append(traj)\n",
    "    \n",
    "    ### rollout one-step model ###\n",
    "    states, _, _ = common_util.rollout_model_env(one_step_model_env, \n",
    "                                     initial_obs=traj.obs[0],\n",
    "                                    plan=traj.act)\n",
    "    \n",
    "    true_states = traj.obs\n",
    "    one_step_pred_states = states[:-1].squeeze()\n",
    "    one_step_errors = np.mean((true_states - one_step_pred_states)**2, axis=1)\n",
    "    one_step.append(one_step_errors)\n",
    "    \n",
    "    ### rollout trajectory-based model ###\n",
    "    \n",
    "    # set time indices\n",
    "    traj_with_params.act[:,-1] = np.arange(0,len(traj_with_params))+1\n",
    "\n",
    "    # construct batch\n",
    "    x_data = np.concatenate((traj_with_params.obs,traj_with_params.act), axis=1)\n",
    "    x_tensor = torch.from_numpy(x_data).float().to(device)\n",
    "    x_tensor = dynamics_model.input_normalizer.normalize(x_tensor)\n",
    "\n",
    "    with torch.no_grad():\n",
    "        states_pred, _ = dynamics_model(x_tensor)\n",
    "    \n",
    "    traj_based_errors = np.mean((true_states - states_pred.numpy())**2, axis=1)\n",
    "    traj_based.append(traj_based_errors)\n",
    "    \n",
    "cumulative_errors_os = np.stack(one_step)\n",
    "one_step_median = np.median(cumulative_errors_os,axis=0)\n",
    "\n",
    "cumulative_errors_tb = np.stack(traj_based)\n",
    "traj_based_median = np.median(cumulative_errors_tb,axis=0)"
   ]
  },
  {
   "cell_type": "markdown",
   "metadata": {},
   "source": [
    "## MSE Along Predicted Trajectories"
   ]
  },
  {
   "cell_type": "code",
   "execution_count": null,
   "metadata": {},
   "outputs": [],
   "source": [
    "fig, ax = plt.subplots(2, 1, figsize=(16, 8))\n",
    "ax[0].plot(train_losses)\n",
    "ax[0].set_xlabel(\"epoch\")\n",
    "ax[0].set_ylabel(\"train loss (gaussian nll)\")\n",
    "ax[1].plot(val_losses)\n",
    "ax[1].set_xlabel(\"epoch\")\n",
    "ax[1].set_ylabel(\"val loss (mse)\")\n",
    "plt.show()"
   ]
  }
 ],
 "metadata": {
  "kernelspec": {
   "display_name": "Python 3 (ipykernel)",
   "language": "python",
   "name": "python3"
  },
  "language_info": {
   "codemirror_mode": {
    "name": "ipython",
    "version": 3
   },
   "file_extension": ".py",
   "mimetype": "text/x-python",
   "name": "python",
   "nbconvert_exporter": "python",
   "pygments_lexer": "ipython3",
   "version": "3.9.12"
  }
 },
 "nbformat": 4,
 "nbformat_minor": 4
}

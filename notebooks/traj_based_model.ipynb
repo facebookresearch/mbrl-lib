{
 "cells": [
  {
   "cell_type": "markdown",
   "metadata": {
    "pycharm": {
     "name": "#%% md\n"
    }
   },
   "source": [
    "# Preview\n",
    "\n",
    "In this example, we are going to use our toolbox to train and evaluate the [Trajectory-based Dynamics Model](https://arxiv.org/abs/2012.09156) in the reacher environment. Note that the reacher environment in this repository is slightly different than the one used in that paper ([link](https://github.com/natolambert/continuousprediction/blob/master/envs/reacher3d.py))!\n",
    "\n",
    "## Conceptual Overview\n",
    "\n",
    "The *Trajectory-based Model* is a alternate type of dynamics model designed for applicatons of model-based reinforcement learning (MBRL) where one would prioritize long-term prediction accuracy (and overcome the well-known [compounding error](http://arxiv.org/abs/2203.09637). This is accomplished by moving away from the standard one-step parametrization of a dynamics model in MBRL.\n",
    "\n",
    "As a review, state-predictions are often done in a **one-step** manner in MBRL:\n",
    "\n",
    "$$s_{t+1} = f_\\theta(s_t,a_t),$$\n",
    "\n",
    "where $s_t$ is the state of the environment, $a_t$ is the action taken by the agent, and $f_\\theta(\\cdot)$ is a learned model of the world. \n",
    "A common issue is that the long-term future is predicted with recursive function calls, which is known to lead to compounding error:\n",
    "\n",
    "$$s_{t+h}=f_\\theta(\\ldots f_\\theta(f_\\theta(s_t,a_t),a_{t+1}) \\ldots , a_{t+h}).$$\n",
    "\n",
    "As an alternate, the trajectory-based model predicts a direct time horizon in the future $h$. In order to avoid needing to pass in every action to the model, it takes in the control parameters that would define the policy $a_t = \\pi_\\phi()$, understanding that the sequence of actions are often highly correlated. This yields a new formulation as follows:\n",
    "\n",
    "$$s_{t+h} = f_\\theta(s_t, h, \\phi).$$\n",
    "\n",
    "This model confers a series of benefits on top of long-term prediction accuracy, including stable uncertainty propagation, fast inference (no more recusion -- just pass in a vector of time), and better sample efficiency.\n",
    "\n",
    "In this notebook, we show you how the model can be trained almost entirely on built in MBRL-Lib code!\n",
    "\n",
    "-----"
   ]
  },
  {
   "cell_type": "markdown",
   "metadata": {
    "pycharm": {
     "name": "#%% md\n"
    }
   },
   "source": [
    "# Setup\n",
    "In this section we import the needed code from MBRL-Lib, create the environment, and configure our experiment.\n",
    "\n",
    "## Imports"
   ]
  },
  {
   "cell_type": "code",
   "execution_count": 339,
   "metadata": {
    "pycharm": {
     "is_executing": true,
     "name": "#%%\n"
    }
   },
   "outputs": [
    {
     "name": "stdout",
     "output_type": "stream",
     "text": [
      "The autoreload extension is already loaded. To reload it, use:\n",
      "  %reload_ext autoreload\n"
     ]
    }
   ],
   "source": [
    "\n",
    "%matplotlib inline\n",
    "import matplotlib as mpl\n",
    "import matplotlib.pyplot as plt\n",
    "import numpy as np\n",
    "import omegaconf\n",
    "import torch\n",
    "\n",
    "import mbrl.env.pets_reacher as reacher_env\n",
    "import mbrl.env.termination_fns as termination_fns\n",
    "import mbrl.models as models\n",
    "import mbrl.util.common as common_util\n",
    "from mbrl.planning import Agent\n",
    "\n",
    "\n",
    "%load_ext autoreload\n",
    "%autoreload 2\n",
    "\n",
    "mpl.rcParams.update({\"font.size\": 16})\n",
    "\n",
    "device = 'cuda:0' if torch.cuda.is_available() else 'cpu'"
   ]
  },
  {
   "cell_type": "markdown",
   "metadata": {
    "pycharm": {
     "name": "#%% md\n"
    }
   },
   "source": [
    "## Creating the environment\n",
    "\n",
    "First we instantiate the environment."
   ]
  },
  {
   "cell_type": "code",
   "execution_count": 340,
   "metadata": {
    "pycharm": {
     "name": "#%%\n"
    }
   },
   "outputs": [],
   "source": [
    "seed = 0\n",
    "\n",
    "env = reacher_env.Reacher3DEnv()\n",
    "env.seed(seed)\n",
    "\n",
    "# experiment constants\n",
    "trial_length = 500\n",
    "num_trials = 10\n",
    "\n",
    "# constants and random number generation\n",
    "generator = torch.Generator(device=device)\n",
    "generator.manual_seed(seed)\n",
    "\n",
    "obs_shape = env.observation_space.shape\n",
    "act_shape = env.action_space.shape"
   ]
  },
  {
   "cell_type": "markdown",
   "metadata": {
    "pycharm": {
     "name": "#%% md\n"
    }
   },
   "source": [
    "## PID Agent\n",
    "\n",
    "In this section we add a basic PID agent to the library to use as the control parameters for prediction with the new model."
   ]
  },
  {
   "cell_type": "code",
   "execution_count": 341,
   "metadata": {
    "pycharm": {
     "name": "#%%\n"
    }
   },
   "outputs": [],
   "source": [
    "class PIDAgent(Agent):\n",
    "    \"\"\"\n",
    "    Agent that reacts via an internal set of PID controllers.\n",
    "    \"\"\"\n",
    "\n",
    "    def __init__(\n",
    "        self,\n",
    "        dim: int,\n",
    "        Kp: np.ndarray,\n",
    "        Ki: np.ndarray,\n",
    "        Kd: np.ndarray,\n",
    "        target: np.ndarray,\n",
    "    ):\n",
    "        super().__init__()\n",
    "        assert len(Kp) == dim\n",
    "        assert len(Ki) == dim\n",
    "        assert len(Kd) == dim\n",
    "        assert len(target) == dim\n",
    "\n",
    "        self.n_dof = dim\n",
    "\n",
    "        # TODO: add helper functions for setting and using state_mapping\n",
    "        self.state_mapping = None   # can set to run PID on specific variables\n",
    "\n",
    "        self.Kp = Kp \n",
    "        self.Ki = Ki \n",
    "        self.Kd = Kd \n",
    "        self.target = target\n",
    "        self.prev_error = 0\n",
    "        self.error = 0\n",
    "\n",
    "    def act(self, obs: np.array) -> np.ndarray:\n",
    "        if len(obs) > self.n_dof:\n",
    "            obs = obs[:self.n_dof]\n",
    "        q_des = self.target\n",
    "        q = obs\n",
    "\n",
    "        self.error = q_des - q\n",
    "        P_value = self.Kp * self.error\n",
    "        I_value = 0  # TODO: implement I and D part\n",
    "        D_value = self.Kd * (self.error - self.prev_error)  \n",
    "        self.prev_error = self.error\n",
    "        action = P_value + I_value + D_value\n",
    "        return action\n",
    "\n",
    "    def _get_P(self):\n",
    "        return self.Kp\n",
    "\n",
    "    def _get_I(self):\n",
    "        return self.Ki\n",
    "\n",
    "    def _get_D(self):\n",
    "        return self.Kd\n",
    "\n",
    "    def _get_targets(self):\n",
    "        return self.target\n",
    "\n",
    "    def get_parameters(self):\n",
    "        return np.stack((self._get_P(), self._get_I(), self._get_D(), self._get_targets())).flatten()\n",
    "\n",
    "\n",
    "def create_pid_agent(action_dim):\n",
    "    # default is to create a PD controller on the joints of the reacher robot\n",
    "    P = np.random.rand(action_dim) * 5\n",
    "    I = np.zeros(action_dim)\n",
    "    D = np.random.rand(action_dim)\n",
    "    \n",
    "    # sample joint angle targets for the end-affector of the reacher\n",
    "    target = np.random.rand(action_dim) * 2 - 1\n",
    "\n",
    "    agent = PIDAgent(dim=action_dim, Kp=P, Ki=I, Kd=D, target=target)\n",
    "    return agent"
   ]
  },
  {
   "cell_type": "markdown",
   "metadata": {
    "pycharm": {
     "name": "#%% md\n"
    }
   },
   "source": [
    "Now we can create an agent by just loading information about the action space from the environment!"
   ]
  },
  {
   "cell_type": "code",
   "execution_count": 342,
   "metadata": {
    "pycharm": {
     "name": "#%%\n"
    }
   },
   "outputs": [],
   "source": [
    "agent = create_pid_agent(env.action_space.shape[0])"
   ]
  },
  {
   "cell_type": "markdown",
   "metadata": {
    "pycharm": {
     "name": "#%% md\n"
    }
   },
   "source": [
    "The agent determines the dimension of the input for trajectory-based model."
   ]
  },
  {
   "cell_type": "code",
   "execution_count": 343,
   "metadata": {
    "pycharm": {
     "name": "#%%\n"
    }
   },
   "outputs": [],
   "source": [
    "param_shape = (len(agent.get_parameters())+1,)"
   ]
  },
  {
   "cell_type": "markdown",
   "metadata": {
    "pycharm": {
     "name": "#%% md\n"
    }
   },
   "source": [
    "## Hydra configurations\n",
    "\n",
    "MBRL-Lib uses [Hydra](https://github.com/facebookresearch/hydra) to manage configurations. For the purpose of this example, you can think of the configuration object as a dictionary with key/value pairs--and equivalent attributes--that specify the model and algorithmic options. Our toolbox expects the configuration object to be organized as follows:"
   ]
  },
  {
   "cell_type": "markdown",
   "metadata": {
    "pycharm": {
     "name": "#%% md\n"
    }
   },
   "source": [
    "### Trajectory-based model config\n",
    "We define the trajectory-based model a little differently than the other examples in this library! You can see we are mapping the parameters in where the actions would normally go in the model. \n",
    "Additionally, the `\"propagation_method\"` argument is redundant because we can predict entire trajectories with one forward pass!\n",
    "The trajectory-based model tends to like bigger batch sizes than one-step models.\n",
    "\n",
    "Finally, there are some constants that we keep constant with the one-step model too!"
   ]
  },
  {
   "cell_type": "code",
   "execution_count": 344,
   "metadata": {
    "pycharm": {
     "name": "#%%\n"
    }
   },
   "outputs": [],
   "source": [
    "ensemble_size = 5\n",
    "num_layers = 3\n",
    "hid_size = 200\n",
    "deterministic = False\n",
    "\n",
    "# Everything with \"???\" indicates an option with a missing value.\n",
    "# Our utility functions will fill in these details using the \n",
    "# environment information\n",
    "cfg_dict = {\n",
    "    # dynamics model configuration\n",
    "    \"dynamics_model\": {\n",
    "        \"_target_\": \"mbrl.models.GaussianMLP\",\n",
    "        \"device\": device,\n",
    "        \"num_layers\": num_layers,\n",
    "        \"ensemble_size\": ensemble_size,\n",
    "        \"hid_size\": hid_size,\n",
    "        \"in_size\": param_shape[0]+obs_shape[0], # control params, horizon, state_0\n",
    "        \"out_size\": obs_shape[0],               # state time 0+h\n",
    "        \"deterministic\": deterministic,\n",
    "        \"propagation_method\": \"random_model\",# NOTE not currently used (predicted in one forward pass, no re-samplign)\n",
    "        # can also configure activation function for GaussianMLP\n",
    "        \"activation_fn_cfg\": {\n",
    "            \"_target_\": \"torch.nn.LeakyReLU\",\n",
    "            \"negative_slope\": 0.01\n",
    "        }\n",
    "    },\n",
    "    # options for training the dynamics model\n",
    "    \"algorithm\": {\n",
    "        \"learned_rewards\": False,\n",
    "        \"target_is_delta\": False, # trajectory based model predicts states directly\n",
    "        \"normalize\": True,\n",
    "    },\n",
    "    # these are experiment specific options\n",
    "    \"overrides\": {\n",
    "        \"trial_length\": trial_length,\n",
    "        \"num_steps\": num_trials * trial_length,\n",
    "        \"model_batch_size\": 256,  # traj based model uses larger batch sizes\n",
    "        \"validation_ratio\": 0.1\n",
    "    }\n",
    "}\n",
    "cfg = omegaconf.OmegaConf.create(cfg_dict)"
   ]
  },
  {
   "cell_type": "markdown",
   "metadata": {
    "pycharm": {
     "name": "#%% md\n"
    }
   },
   "source": [
    "### One-step model config\n",
    "We train a one-step model as a baseline against the trajectory-based model!"
   ]
  },
  {
   "cell_type": "code",
   "execution_count": 345,
   "metadata": {
    "pycharm": {
     "name": "#%%\n"
    }
   },
   "outputs": [],
   "source": [
    "one_step_config_dict = {\n",
    "    # dynamics model configuration\n",
    "    \"dynamics_model\": {\n",
    "        \"_target_\": \"mbrl.models.GaussianMLP\",\n",
    "        \"device\": device,\n",
    "        \"num_layers\": num_layers,\n",
    "        \"ensemble_size\": ensemble_size,\n",
    "        \"hid_size\": hid_size,\n",
    "        \"in_size\": \"???\",\n",
    "        \"out_size\": \"???\",\n",
    "        \"deterministic\": deterministic,\n",
    "#         \"propagation_method\": \"random_model\",\n",
    "        \"propagation_method\": \"expectation\",\n",
    "        # can also configure activation function for GaussianMLP\n",
    "        \"activation_fn_cfg\": {\n",
    "            \"_target_\": \"torch.nn.LeakyReLU\",\n",
    "            \"negative_slope\": 0.01\n",
    "        }\n",
    "    },\n",
    "    # options for training the dynamics model\n",
    "    \"algorithm\": {\n",
    "        \"learned_rewards\": False,\n",
    "        \"target_is_delta\": True, \n",
    "        \"normalize\": True,\n",
    "    },\n",
    "    # these are experiment specific options\n",
    "    \"overrides\": {\n",
    "        \"trial_length\": trial_length,\n",
    "        \"num_steps\": num_trials * trial_length,\n",
    "        \"model_batch_size\": 40,\n",
    "        \"validation_ratio\": 0.1\n",
    "    }\n",
    "}\n",
    "\n",
    "one_step_config = omegaconf.OmegaConf.create(one_step_config_dict)"
   ]
  },
  {
   "cell_type": "markdown",
   "metadata": {
    "pycharm": {
     "name": "#%% md\n"
    }
   },
   "source": [
    "----"
   ]
  },
  {
   "cell_type": "markdown",
   "metadata": {
    "pycharm": {
     "name": "#%% md\n"
    }
   },
   "source": [
    "# Experimentation"
   ]
  },
  {
   "cell_type": "markdown",
   "metadata": {
    "pycharm": {
     "name": "#%% md\n"
    }
   },
   "source": [
    "## Creating a dynamics model\n",
    "\n",
    "Given the configuration above, the following two lines of code create a wrapper for 1-D transition reward models, and a gym-like environment that wraps it, which we can use for simulating the real environment. The 1-D model wrapper takes care of creating input/output data tensors to the underlying NN model (by concatenating observations, actions and rewards appropriately), normalizing the input data to the model, and other data processing tasks (e.g., converting observation targets to deltas with respect to the input observation)."
   ]
  },
  {
   "cell_type": "code",
   "execution_count": 346,
   "metadata": {
    "pycharm": {
     "name": "#%%\n"
    }
   },
   "outputs": [
    {
     "name": "stderr",
     "output_type": "stream",
     "text": [
      "/Users/nato/miniconda3/envs/mbrl-py39/lib/python3.9/site-packages/hydra/utils.py:32: UserWarning: `OmegaConf.is_none()` is deprecated, see https://github.com/omry/omegaconf/issues/547\n",
      "  if OmegaConf.is_none(config):\n"
     ]
    }
   ],
   "source": [
    "# Create a 1-D dynamics model for this environment\n",
    "dynamics_model = common_util.create_one_dim_tr_model(cfg, obs_shape, act_shape)"
   ]
  },
  {
   "cell_type": "markdown",
   "metadata": {
    "pycharm": {
     "name": "#%% md\n"
    }
   },
   "source": [
    "## Create replay buffers\n",
    "\n",
    "We can create a replay buffer for this environment using an configuration a built-in method, where `collect_trajectories` is on for easier plotting of results.\n",
    "\n",
    "Please note, we will create three replay buffers because our use-case pushes the limits of mbrl-lib. \n",
    "1. `replay_buffer_traj_train` is a replay buffer where will put all the sub-trajectories used to train the trajectory-based model,\n",
    "2. `replay_buffer_traj_val` is a replay buffer storing trajectories with control parameters, used for plotting only.\n",
    "3. `one_step_replay_buffer` is a replay buffer mirroring other examples in this library. We can use it for training and plotting one-step model results."
   ]
  },
  {
   "cell_type": "code",
   "execution_count": 347,
   "metadata": {
    "pycharm": {
     "name": "#%%\n"
    }
   },
   "outputs": [],
   "source": [
    "collect_full_trajectories = True\n",
    "replay_buffer_traj_train = common_util.create_replay_buffer(cfg, \n",
    "                                                 obs_shape, \n",
    "                                                 param_shape, \n",
    "                                                 rng=np.random.default_rng(seed=0), \n",
    "                                                 collect_trajectories=False)\n",
    "\n",
    "replay_buffer_traj_val = common_util.create_replay_buffer(cfg, \n",
    "                                                 obs_shape, \n",
    "                                                 param_shape, \n",
    "                                                 rng=np.random.default_rng(seed=0), \n",
    "                                                 collect_trajectories=True)\n",
    "\n",
    "one_step_replay_buffer = common_util.create_replay_buffer(one_step_config, \n",
    "                                                          obs_shape, \n",
    "                                                          act_shape, \n",
    "                                                          rng=np.random.default_rng(seed=0), \n",
    "                                                          collect_trajectories=True)"
   ]
  },
  {
   "cell_type": "markdown",
   "metadata": {
    "pycharm": {
     "name": "#%% md\n"
    }
   },
   "source": [
    "## Generate and store data\n",
    "We can now populate the replay buffer with random trajectories of a desired length, using a modified function based on `util.rollout_agent_trajectories`. The changes are that the tuples are only added to the buffer at the end of the trajectory to add every sub-trajectory for supervised learning."
   ]
  },
  {
   "cell_type": "code",
   "execution_count": 348,
   "metadata": {
    "pycharm": {
     "name": "#%%\n"
    }
   },
   "outputs": [],
   "source": [
    "trial = 0\n",
    "while trial < num_trials:\n",
    "    step = 0\n",
    "    traj = []\n",
    "    obs = env.reset()\n",
    "    \n",
    "    # create a new agent each trial to get a variety of PID parameters\n",
    "    agent = create_pid_agent(env.action_space.shape[0])\n",
    "    agent.reset()\n",
    "    done = False\n",
    "    while not done:\n",
    "        action = agent.act(obs)\n",
    "        next_obs, reward, done, info = env.step(action)\n",
    "        \n",
    "        # ADD ONE-STEP DATA\n",
    "        one_step_replay_buffer.add(obs, action, next_obs, reward, done)\n",
    "\n",
    "        # use a separate replay buffer for evaluating trajectories later (that can store trajectory info)\n",
    "        replay_buffer_traj_val.add(obs, \n",
    "                                  np.concatenate((agent.get_parameters(), np.array([1,]))),\n",
    "                                  next_obs,\n",
    "                                  reward,\n",
    "                                  done)\n",
    "\n",
    "        \n",
    "        obs = next_obs\n",
    "        traj.append((obs, step))\n",
    "        \n",
    "        # ADD TRAJ-BASED DATA\n",
    "        # if not the first step, iterate through memory and append each sub-trajectory\n",
    "        if len(traj[:-1]) > 0:\n",
    "            for obs_t, t in traj[:-1]:\n",
    "                replay_buffer_traj_train.add(obs_t, # obs is state_t\n",
    "                                  \n",
    "                                  # action is control params + hor\n",
    "                                  np.concatenate((agent.get_parameters(), np.array([step-t,]))), \n",
    "                                  next_obs, # next state is state_t+hor\n",
    "                                  reward, # reward not used\n",
    "                                  done # done not used\n",
    "                             )\n",
    "        step += 1\n",
    "                \n",
    "        if trial_length and step % trial_length == 0:\n",
    "            if collect_full_trajectories and not done:\n",
    "                replay_buffer_traj_val.close_trajectory()\n",
    "                one_step_replay_buffer.close_trajectory()\n",
    "            break\n",
    "    \n",
    "    trial += 1    \n"
   ]
  },
  {
   "cell_type": "markdown",
   "metadata": {
    "pycharm": {
     "name": "#%% md\n"
    }
   },
   "source": [
    "## Training the Trajectory Based Model"
   ]
  },
  {
   "cell_type": "markdown",
   "metadata": {
    "pycharm": {
     "name": "#%% md\n"
    }
   },
   "source": [
    "Create a basic model trainer for our Gaussian MLP."
   ]
  },
  {
   "cell_type": "code",
   "execution_count": 349,
   "metadata": {
    "pycharm": {
     "name": "#%%\n"
    }
   },
   "outputs": [],
   "source": [
    "model_trainer = models.ModelTrainer(dynamics_model, optim_lr=1e-4, weight_decay=5e-5)"
   ]
  },
  {
   "cell_type": "markdown",
   "metadata": {
    "pycharm": {
     "name": "#%% md\n"
    }
   },
   "source": [
    "Create a training & validation dataset."
   ]
  },
  {
   "cell_type": "code",
   "execution_count": 350,
   "metadata": {
    "pycharm": {
     "name": "#%%\n"
    }
   },
   "outputs": [],
   "source": [
    "train_dataset, val_dataset = common_util.get_basic_buffer_iterators(\n",
    "    replay_buffer_traj_train, \n",
    "    cfg.overrides.model_batch_size, \n",
    "    cfg.overrides.validation_ratio, \n",
    "    ensemble_size=ensemble_size, \n",
    "    shuffle_each_epoch=True\n",
    ")"
   ]
  },
  {
   "cell_type": "markdown",
   "metadata": {
    "pycharm": {
     "name": "#%% md\n"
    }
   },
   "source": [
    "Train the model!"
   ]
  },
  {
   "cell_type": "code",
   "execution_count": 351,
   "metadata": {
    "pycharm": {
     "name": "#%%\n"
    }
   },
   "outputs": [],
   "source": [
    "train_losses, val_losses = model_trainer.train(train_dataset, val_dataset, num_epochs=50, patience=100)"
   ]
  },
  {
   "cell_type": "markdown",
   "metadata": {
    "pycharm": {
     "name": "#%% md\n"
    }
   },
   "source": [
    "# Plotting Results"
   ]
  },
  {
   "cell_type": "markdown",
   "metadata": {
    "pycharm": {
     "name": "#%% md\n"
    }
   },
   "source": [
    "## Traj-based Model Loss"
   ]
  },
  {
   "cell_type": "code",
   "execution_count": 352,
   "metadata": {
    "pycharm": {
     "name": "#%%\n"
    }
   },
   "outputs": [
    {
     "data": {
      "image/png": "[encoded data removed]",
      "text/plain": [
       "<Figure size 1152x576 with 2 Axes>"
      ]
     },
     "metadata": {
      "needs_background": "light"
     },
     "output_type": "display_data"
    }
   ],
   "source": [
    "fig, ax = plt.subplots(2, 1, figsize=(16, 8))\n",
    "ax[0].plot(train_losses)\n",
    "ax[0].set_xlabel(\"epoch\")\n",
    "ax[0].set_ylabel(\"train loss (gaussian nll)\")\n",
    "ax[1].plot(val_losses)\n",
    "ax[1].set_xlabel(\"epoch\")\n",
    "ax[1].set_ylabel(\"val loss (mse)\")\n",
    "plt.show()"
   ]
  },
  {
   "cell_type": "markdown",
   "metadata": {
    "pycharm": {
     "name": "#%% md\n"
    }
   },
   "source": [
    "## Prediction Accuracy"
   ]
  },
  {
   "cell_type": "markdown",
   "metadata": {
    "pycharm": {
     "name": "#%% md\n"
    }
   },
   "source": [
    "Initialize an one-step model"
   ]
  },
  {
   "cell_type": "code",
   "execution_count": 353,
   "metadata": {
    "pycharm": {
     "name": "#%%\n"
    }
   },
   "outputs": [],
   "source": [
    "# Create a 1-D dynamics model for this environment\n",
    "one_step_model = common_util.create_one_dim_tr_model(one_step_config, obs_shape, act_shape)"
   ]
  },
  {
   "cell_type": "markdown",
   "metadata": {
    "pycharm": {
     "name": "#%% md\n"
    }
   },
   "source": [
    "Train the one-step model"
   ]
  },
  {
   "cell_type": "code",
   "execution_count": 354,
   "metadata": {
    "pycharm": {
     "name": "#%%\n"
    }
   },
   "outputs": [],
   "source": [
    "one_step_model_trainer = models.ModelTrainer(one_step_model, optim_lr=1e-4, weight_decay=5e-5)\n",
    "one_step_train_dataset, one_step_val_dataset = common_util.get_basic_buffer_iterators(\n",
    "    one_step_replay_buffer, #  \n",
    "    batch_size=cfg.overrides.model_batch_size,\n",
    "    val_ratio=cfg.overrides.validation_ratio,\n",
    "    ensemble_size=ensemble_size, \n",
    "    shuffle_each_epoch=True\n",
    ")\n",
    "one_step_train_losses, one_step_val_losses = one_step_model_trainer.train(one_step_train_dataset, one_step_val_dataset, \n",
    "                                               num_epochs=50, patience=100)"
   ]
  },
  {
   "cell_type": "code",
   "execution_count": 355,
   "metadata": {
    "pycharm": {
     "name": "#%%\n"
    }
   },
   "outputs": [
    {
     "data": {
      "image/png": "[encoded data removed]",
      "text/plain": [
       "<Figure size 1152x576 with 2 Axes>"
      ]
     },
     "metadata": {
      "needs_background": "light"
     },
     "output_type": "display_data"
    }
   ],
   "source": [
    "fig, ax = plt.subplots(2, 1, figsize=(16, 8))\n",
    "ax[0].plot(one_step_train_losses)\n",
    "ax[0].set_xlabel(\"epoch\")\n",
    "ax[0].set_ylabel(\"train loss (gaussian nll)\")\n",
    "ax[1].plot(one_step_val_losses)\n",
    "ax[1].set_xlabel(\"epoch\")\n",
    "ax[1].set_ylabel(\"val loss (mse)\")\n",
    "plt.show()"
   ]
  },
  {
   "cell_type": "markdown",
   "metadata": {
    "pycharm": {
     "name": "#%% md\n"
    }
   },
   "source": [
    "Sample trajectories for evaluation, predict trajectories, and compute MSE across states (without batching, does not work for ensemble).  \n",
    "This large block is mostly data handling! First, lets collate the data we need!"
   ]
  },
  {
   "cell_type": "code",
   "execution_count": 356,
   "metadata": {
    "pycharm": {
     "name": "#%%\n"
    }
   },
   "outputs": [],
   "source": [
    "num_traj_eval = num_trials\n",
    "\n",
    "# round trajectories to multiple of ensemble size for batching:\n",
    "num_traj = int(ensemble_size * np.floor(num_traj_eval/ensemble_size))\n",
    "\n",
    "# for storing data\n",
    "eval_data_obs = []   # store observations for both prediction (initial state) and evaluation (full trajectory)\n",
    "eval_data_act = []   # store plans here (for one-step model)\n",
    "eval_traj_param = [] # store control parameters here for traj-based model\n",
    "\n",
    "# collect trajectories from buffers\n",
    "for i in range(num_traj):\n",
    "    \n",
    "    # base trajectory for computing accuracy\n",
    "    traj = one_step_replay_buffer.sample_trajectory()\n",
    "    traj_with_params = replay_buffer_traj_val.sample_trajectory() # doesn't have actions!\n",
    "\n",
    "    # one-step data\n",
    "    eval_data_obs.append(traj.obs)\n",
    "    eval_data_act.append(traj.act)\n",
    "    \n",
    "    # traj-based data\n",
    "    traj_with_params.act[:,-1] = np.arange(0,len(traj_with_params))+1\n",
    "    eval_traj_param.append(traj_with_params.act)\n",
    "    \n",
    "# create array of state trajectories\n",
    "true_states = np.stack(eval_data_obs)"
   ]
  },
  {
   "cell_type": "markdown",
   "metadata": {
    "pycharm": {
     "name": "#%% md\n"
    }
   },
   "source": [
    "Now we predict with the models! First we can pass the initial states and plans into the one-step model to unroll trajectories. Note that everything is stacked because the ensembles use batching."
   ]
  },
  {
   "cell_type": "code",
   "execution_count": 357,
   "metadata": {
    "pycharm": {
     "name": "#%%\n"
    }
   },
   "outputs": [],
   "source": [
    "def no_reward(act: torch.Tensor, next_obs: torch.Tensor) -> torch.Tensor:\n",
    "    return torch.Tensor(0)\n",
    "\n",
    "one_step_model_env = models.ModelEnv(env, one_step_model, termination_fns.no_termination, no_reward, generator=generator)\n",
    "\n",
    "\n",
    "### rollout one-step model in batch of trajectories ###\n",
    "states, _, _ = common_util.rollout_model_env(one_step_model_env, \n",
    "                                 initial_obs=np.stack([o[0] for o in eval_data_obs],axis=0),\n",
    "                                plan=np.stack(eval_data_act, axis=1))"
   ]
  },
  {
   "cell_type": "markdown",
   "metadata": {
    "pycharm": {
     "name": "#%% md\n"
    }
   },
   "source": [
    "We don't need a utility to predict with the trajectory-based model, but in that case we need to do some of the data processing that would be handled in the `mbrl.common_utils`."
   ]
  },
  {
   "cell_type": "code",
   "execution_count": 358,
   "metadata": {
    "pycharm": {
     "name": "#%%\n"
    }
   },
   "outputs": [],
   "source": [
    "# concatenare initial states with parameters + time index\n",
    "obs_stack = np.stack([o[0] for o in eval_data_obs])\n",
    "param_stack = np.stack(eval_traj_param)\n",
    "\n",
    "param_dim = np.shape(param_stack)[-1]\n",
    "obs_dim = np.shape(obs_stack)[-1]\n",
    "\n",
    "# set up batching\n",
    "param_expand = param_stack.reshape(-1,param_dim)\n",
    "obs_expand = np.repeat(obs_stack[:, np.newaxis, :], trial_length, axis=1).reshape(-1,obs_dim)\n",
    "\n",
    "# to torch\n",
    "x_data = np.concatenate((obs_expand,param_expand), axis=1)\n",
    "x_tensor = torch.from_numpy(x_data).float().to(device)\n",
    "\n",
    "# normalize input data\n",
    "x_tensor = dynamics_model.input_normalizer.normalize(x_tensor)\n",
    "\n",
    "# predict trajectories\n",
    "with torch.no_grad():\n",
    "    states_pred, _ = dynamics_model(x_tensor)"
   ]
  },
  {
   "cell_type": "markdown",
   "metadata": {
    "pycharm": {
     "name": "#%% md\n"
    }
   },
   "source": [
    "Now let's analyze the data!"
   ]
  },
  {
   "cell_type": "code",
   "execution_count": 359,
   "metadata": {
    "pycharm": {
     "name": "#%%\n"
    }
   },
   "outputs": [],
   "source": [
    "# Compute one-step errors\n",
    "one_step_pred_states = np.swapaxes(states[:-1].squeeze(),0,1)\n",
    "one_step_errors = np.mean((true_states - one_step_pred_states)**2, axis=-1)\n",
    "\n",
    "# compute trajectory-based errors\n",
    "states_pred = states_pred.numpy().reshape(num_traj, trial_length, -1)\n",
    "traj_based_errors = np.mean((true_states - states_pred)**2, axis=-1)"
   ]
  },
  {
   "cell_type": "markdown",
   "metadata": {
    "pycharm": {
     "name": "#%% md\n"
    }
   },
   "source": [
    "## Trajectory-based vs One-step\n",
    "Here we take the errors and plot them over time!"
   ]
  },
  {
   "cell_type": "code",
   "execution_count": 361,
   "metadata": {
    "pycharm": {
     "name": "#%%\n"
    }
   },
   "outputs": [
    {
     "data": {
      "image/png": "[encoded data removed]",
      "text/plain": [
       "<Figure size 864x576 with 1 Axes>"
      ]
     },
     "metadata": {
      "needs_background": "light"
     },
     "output_type": "display_data"
    }
   ],
   "source": [
    "# cumulative_errors_os = np.stack(one_step).squeeze()\n",
    "one_step_median = np.median(one_step_errors,axis=0)\n",
    "one_step_90 = np.quantile(one_step_errors, .90, axis=0)\n",
    "one_step_10 = np.quantile(one_step_errors, .10, axis=0)\n",
    "\n",
    "# cumulative_errors_tb = np.stack(traj_based).squeeze()\n",
    "traj_based_median = np.median(traj_based_errors,axis=0)\n",
    "traj_based_90 = np.quantile(traj_based_errors, .90, axis=0)\n",
    "traj_based_10 = np.quantile(traj_based_errors, .10, axis=0)\n",
    "\n",
    "\n",
    "colors = ['#1f77b4',  # muted blue\n",
    "          '#ff7f0e',  # safety orange\n",
    "          '#2ca02c',  # cooked asparagus green\n",
    "          '#d62728',  # brick red\n",
    "          ]\n",
    "\n",
    "fig, ax = plt.subplots(1, 1, figsize=(12, 8))\n",
    "ax.plot(one_step_median, label=\"one-step\", c=colors[0])\n",
    "ax.plot(traj_based_median, label=\"traj-based\", c=colors[1])\n",
    "ax.fill_between(np.arange(len(one_step_median)), one_step_10, one_step_90, color=colors[0], alpha=.33)\n",
    "ax.fill_between(np.arange(len(traj_based_median)), traj_based_10, traj_based_90, color=colors[1], alpha=.33)\n",
    "ax.set_xlabel(\"Predictive Horizon\")\n",
    "ax.set_ylabel(\"Prediction Error (MSE)\")\n",
    "ax.legend()\n",
    "plt.show()"
   ]
  },
  {
   "cell_type": "code",
   "execution_count": null,
   "metadata": {
    "pycharm": {
     "name": "#%%\n"
    }
   },
   "outputs": [],
   "source": []
  }
 ],
 "metadata": {
  "kernelspec": {
   "display_name": "Python 3 (ipykernel)",
   "language": "python",
   "name": "python3"
  },
  "language_info": {
   "codemirror_mode": {
    "name": "ipython",
    "version": 3
   },
   "file_extension": ".py",
   "mimetype": "text/x-python",
   "name": "python",
   "nbconvert_exporter": "python",
   "pygments_lexer": "ipython3",
   "version": "3.9.12"
  }
 },
 "nbformat": 4,
 "nbformat_minor": 4
}